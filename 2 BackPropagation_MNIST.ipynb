{
 "cells": [
  {
   "cell_type": "markdown",
   "id": "2aafd668",
   "metadata": {},
   "source": [
    "# Multi Class Classification (having more than two labels in response variable)"
   ]
  },
  {
   "cell_type": "markdown",
   "id": "94741208",
   "metadata": {},
   "source": [
    "In MNIST data set we have 10 labels in the response variable i.e. from 0 to 9. So, we have 10 nodes in the output layer since in multiclass classification the number of nodes in output layers is equal to the number of classes. And among them we consider only that class as a output which has highest probability."
   ]
  },
  {
   "cell_type": "code",
   "execution_count": 1,
   "id": "b7e9d802",
   "metadata": {},
   "outputs": [],
   "source": [
    "import numpy as np\n",
    "import pandas as pd"
   ]
  },
  {
   "cell_type": "code",
   "execution_count": 2,
   "id": "6030479a",
   "metadata": {},
   "outputs": [],
   "source": [
    "import tensorflow\n",
    "from tensorflow import keras\n",
    "from tensorflow.keras import Sequential\n",
    "from tensorflow.keras.layers import Dense, Flatten"
   ]
  },
  {
   "cell_type": "code",
   "execution_count": 3,
   "id": "bbe59f0b",
   "metadata": {},
   "outputs": [],
   "source": [
    "(x_train, y_train),(x_test,y_test) = keras.datasets.mnist.load_data()         # MNIST dataset is already present in the keras which load the data in the form of (x_train, y_train),(x_test,y_test)"
   ]
  },
  {
   "cell_type": "code",
   "execution_count": 4,
   "id": "0faf47ab",
   "metadata": {},
   "outputs": [
    {
     "data": {
      "text/plain": [
       "array([[[0, 0, 0, ..., 0, 0, 0],\n",
       "        [0, 0, 0, ..., 0, 0, 0],\n",
       "        [0, 0, 0, ..., 0, 0, 0],\n",
       "        ...,\n",
       "        [0, 0, 0, ..., 0, 0, 0],\n",
       "        [0, 0, 0, ..., 0, 0, 0],\n",
       "        [0, 0, 0, ..., 0, 0, 0]],\n",
       "\n",
       "       [[0, 0, 0, ..., 0, 0, 0],\n",
       "        [0, 0, 0, ..., 0, 0, 0],\n",
       "        [0, 0, 0, ..., 0, 0, 0],\n",
       "        ...,\n",
       "        [0, 0, 0, ..., 0, 0, 0],\n",
       "        [0, 0, 0, ..., 0, 0, 0],\n",
       "        [0, 0, 0, ..., 0, 0, 0]],\n",
       "\n",
       "       [[0, 0, 0, ..., 0, 0, 0],\n",
       "        [0, 0, 0, ..., 0, 0, 0],\n",
       "        [0, 0, 0, ..., 0, 0, 0],\n",
       "        ...,\n",
       "        [0, 0, 0, ..., 0, 0, 0],\n",
       "        [0, 0, 0, ..., 0, 0, 0],\n",
       "        [0, 0, 0, ..., 0, 0, 0]],\n",
       "\n",
       "       ...,\n",
       "\n",
       "       [[0, 0, 0, ..., 0, 0, 0],\n",
       "        [0, 0, 0, ..., 0, 0, 0],\n",
       "        [0, 0, 0, ..., 0, 0, 0],\n",
       "        ...,\n",
       "        [0, 0, 0, ..., 0, 0, 0],\n",
       "        [0, 0, 0, ..., 0, 0, 0],\n",
       "        [0, 0, 0, ..., 0, 0, 0]],\n",
       "\n",
       "       [[0, 0, 0, ..., 0, 0, 0],\n",
       "        [0, 0, 0, ..., 0, 0, 0],\n",
       "        [0, 0, 0, ..., 0, 0, 0],\n",
       "        ...,\n",
       "        [0, 0, 0, ..., 0, 0, 0],\n",
       "        [0, 0, 0, ..., 0, 0, 0],\n",
       "        [0, 0, 0, ..., 0, 0, 0]],\n",
       "\n",
       "       [[0, 0, 0, ..., 0, 0, 0],\n",
       "        [0, 0, 0, ..., 0, 0, 0],\n",
       "        [0, 0, 0, ..., 0, 0, 0],\n",
       "        ...,\n",
       "        [0, 0, 0, ..., 0, 0, 0],\n",
       "        [0, 0, 0, ..., 0, 0, 0],\n",
       "        [0, 0, 0, ..., 0, 0, 0]]], dtype=uint8)"
      ]
     },
     "execution_count": 4,
     "metadata": {},
     "output_type": "execute_result"
    }
   ],
   "source": [
    "x_train"
   ]
  },
  {
   "cell_type": "code",
   "execution_count": 5,
   "id": "0d9a4e44",
   "metadata": {},
   "outputs": [
    {
     "data": {
      "text/plain": [
       "(60000, 28, 28)"
      ]
     },
     "execution_count": 5,
     "metadata": {},
     "output_type": "execute_result"
    }
   ],
   "source": [
    "x_train.shape"
   ]
  },
  {
   "cell_type": "markdown",
   "id": "9062bddf",
   "metadata": {},
   "source": [
    "i.e. input training set of MNIST data set contains 60000 images of number from 0 to 9 with 28 pixels * 28 pixels (3D array)"
   ]
  },
  {
   "cell_type": "code",
   "execution_count": 6,
   "id": "5f276b3a",
   "metadata": {},
   "outputs": [
    {
     "data": {
      "text/plain": [
       "array([[  0,   0,   0,   0,   0,   0,   0,   0,   0,   0,   0,   0,   0,\n",
       "          0,   0,   0,   0,   0,   0,   0,   0,   0,   0,   0,   0,   0,\n",
       "          0,   0],\n",
       "       [  0,   0,   0,   0,   0,   0,   0,   0,   0,   0,   0,   0,   0,\n",
       "          0,   0,   0,   0,   0,   0,   0,   0,   0,   0,   0,   0,   0,\n",
       "          0,   0],\n",
       "       [  0,   0,   0,   0,   0,   0,   0,   0,   0,   0,   0,   0,   0,\n",
       "          0,   0,   0,   0,   0,   0,   0,   0,   0,   0,   0,   0,   0,\n",
       "          0,   0],\n",
       "       [  0,   0,   0,   0,   0,   0,   0,   0,   0,   0,   0,   0,   0,\n",
       "          0,   0,   0,   0,   0,   0,   0,   0,   0,   0,   0,   0,   0,\n",
       "          0,   0],\n",
       "       [  0,   0,   0,   0,   0,   0,   0,   0,   0,   0,   0,   0,   0,\n",
       "          0,   0,   0,   0,   0,   0,   0,   0,   0,   0,   0,   0,   0,\n",
       "          0,   0],\n",
       "       [  0,   0,   0,   0,   0,   0,   0,   0,   0,   0,   0,   0,   3,\n",
       "         18,  18,  18, 126, 136, 175,  26, 166, 255, 247, 127,   0,   0,\n",
       "          0,   0],\n",
       "       [  0,   0,   0,   0,   0,   0,   0,   0,  30,  36,  94, 154, 170,\n",
       "        253, 253, 253, 253, 253, 225, 172, 253, 242, 195,  64,   0,   0,\n",
       "          0,   0],\n",
       "       [  0,   0,   0,   0,   0,   0,   0,  49, 238, 253, 253, 253, 253,\n",
       "        253, 253, 253, 253, 251,  93,  82,  82,  56,  39,   0,   0,   0,\n",
       "          0,   0],\n",
       "       [  0,   0,   0,   0,   0,   0,   0,  18, 219, 253, 253, 253, 253,\n",
       "        253, 198, 182, 247, 241,   0,   0,   0,   0,   0,   0,   0,   0,\n",
       "          0,   0],\n",
       "       [  0,   0,   0,   0,   0,   0,   0,   0,  80, 156, 107, 253, 253,\n",
       "        205,  11,   0,  43, 154,   0,   0,   0,   0,   0,   0,   0,   0,\n",
       "          0,   0],\n",
       "       [  0,   0,   0,   0,   0,   0,   0,   0,   0,  14,   1, 154, 253,\n",
       "         90,   0,   0,   0,   0,   0,   0,   0,   0,   0,   0,   0,   0,\n",
       "          0,   0],\n",
       "       [  0,   0,   0,   0,   0,   0,   0,   0,   0,   0,   0, 139, 253,\n",
       "        190,   2,   0,   0,   0,   0,   0,   0,   0,   0,   0,   0,   0,\n",
       "          0,   0],\n",
       "       [  0,   0,   0,   0,   0,   0,   0,   0,   0,   0,   0,  11, 190,\n",
       "        253,  70,   0,   0,   0,   0,   0,   0,   0,   0,   0,   0,   0,\n",
       "          0,   0],\n",
       "       [  0,   0,   0,   0,   0,   0,   0,   0,   0,   0,   0,   0,  35,\n",
       "        241, 225, 160, 108,   1,   0,   0,   0,   0,   0,   0,   0,   0,\n",
       "          0,   0],\n",
       "       [  0,   0,   0,   0,   0,   0,   0,   0,   0,   0,   0,   0,   0,\n",
       "         81, 240, 253, 253, 119,  25,   0,   0,   0,   0,   0,   0,   0,\n",
       "          0,   0],\n",
       "       [  0,   0,   0,   0,   0,   0,   0,   0,   0,   0,   0,   0,   0,\n",
       "          0,  45, 186, 253, 253, 150,  27,   0,   0,   0,   0,   0,   0,\n",
       "          0,   0],\n",
       "       [  0,   0,   0,   0,   0,   0,   0,   0,   0,   0,   0,   0,   0,\n",
       "          0,   0,  16,  93, 252, 253, 187,   0,   0,   0,   0,   0,   0,\n",
       "          0,   0],\n",
       "       [  0,   0,   0,   0,   0,   0,   0,   0,   0,   0,   0,   0,   0,\n",
       "          0,   0,   0,   0, 249, 253, 249,  64,   0,   0,   0,   0,   0,\n",
       "          0,   0],\n",
       "       [  0,   0,   0,   0,   0,   0,   0,   0,   0,   0,   0,   0,   0,\n",
       "          0,  46, 130, 183, 253, 253, 207,   2,   0,   0,   0,   0,   0,\n",
       "          0,   0],\n",
       "       [  0,   0,   0,   0,   0,   0,   0,   0,   0,   0,   0,   0,  39,\n",
       "        148, 229, 253, 253, 253, 250, 182,   0,   0,   0,   0,   0,   0,\n",
       "          0,   0],\n",
       "       [  0,   0,   0,   0,   0,   0,   0,   0,   0,   0,  24, 114, 221,\n",
       "        253, 253, 253, 253, 201,  78,   0,   0,   0,   0,   0,   0,   0,\n",
       "          0,   0],\n",
       "       [  0,   0,   0,   0,   0,   0,   0,   0,  23,  66, 213, 253, 253,\n",
       "        253, 253, 198,  81,   2,   0,   0,   0,   0,   0,   0,   0,   0,\n",
       "          0,   0],\n",
       "       [  0,   0,   0,   0,   0,   0,  18, 171, 219, 253, 253, 253, 253,\n",
       "        195,  80,   9,   0,   0,   0,   0,   0,   0,   0,   0,   0,   0,\n",
       "          0,   0],\n",
       "       [  0,   0,   0,   0,  55, 172, 226, 253, 253, 253, 253, 244, 133,\n",
       "         11,   0,   0,   0,   0,   0,   0,   0,   0,   0,   0,   0,   0,\n",
       "          0,   0],\n",
       "       [  0,   0,   0,   0, 136, 253, 253, 253, 212, 135, 132,  16,   0,\n",
       "          0,   0,   0,   0,   0,   0,   0,   0,   0,   0,   0,   0,   0,\n",
       "          0,   0],\n",
       "       [  0,   0,   0,   0,   0,   0,   0,   0,   0,   0,   0,   0,   0,\n",
       "          0,   0,   0,   0,   0,   0,   0,   0,   0,   0,   0,   0,   0,\n",
       "          0,   0],\n",
       "       [  0,   0,   0,   0,   0,   0,   0,   0,   0,   0,   0,   0,   0,\n",
       "          0,   0,   0,   0,   0,   0,   0,   0,   0,   0,   0,   0,   0,\n",
       "          0,   0],\n",
       "       [  0,   0,   0,   0,   0,   0,   0,   0,   0,   0,   0,   0,   0,\n",
       "          0,   0,   0,   0,   0,   0,   0,   0,   0,   0,   0,   0,   0,\n",
       "          0,   0]], dtype=uint8)"
      ]
     },
     "execution_count": 6,
     "metadata": {},
     "output_type": "execute_result"
    }
   ],
   "source": [
    "x_train[0]"
   ]
  },
  {
   "cell_type": "markdown",
   "id": "6097cf4c",
   "metadata": {},
   "source": [
    "i.e. pixels value of first image"
   ]
  },
  {
   "cell_type": "code",
   "execution_count": 7,
   "id": "a2d54c60",
   "metadata": {},
   "outputs": [
    {
     "data": {
      "text/plain": [
       "(28, 28)"
      ]
     },
     "execution_count": 7,
     "metadata": {},
     "output_type": "execute_result"
    }
   ],
   "source": [
    "x_train[0].shape"
   ]
  },
  {
   "cell_type": "markdown",
   "id": "c426e1fd",
   "metadata": {},
   "source": [
    "i.e. first image is 2D array with 28*28 pixels"
   ]
  },
  {
   "cell_type": "code",
   "execution_count": 8,
   "id": "e7ddd5ff",
   "metadata": {},
   "outputs": [
    {
     "data": {
      "text/plain": [
       "<matplotlib.image.AxesImage at 0x25cbac4b670>"
      ]
     },
     "execution_count": 8,
     "metadata": {},
     "output_type": "execute_result"
    },
    {
     "data": {
      "image/png": "[encoded data removed]",
      "text/plain": [
       "<Figure size 432x288 with 1 Axes>"
      ]
     },
     "metadata": {
      "needs_background": "light"
     },
     "output_type": "display_data"
    }
   ],
   "source": [
    "import matplotlib.pyplot as plt\n",
    "plt.imshow(x_train[0])"
   ]
  },
  {
   "cell_type": "markdown",
   "id": "d14019c7",
   "metadata": {},
   "source": [
    "i.e. first number is 5"
   ]
  },
  {
   "cell_type": "code",
   "execution_count": 9,
   "id": "ed9d761a",
   "metadata": {},
   "outputs": [
    {
     "data": {
      "text/plain": [
       "(10000, 28, 28)"
      ]
     },
     "execution_count": 9,
     "metadata": {},
     "output_type": "execute_result"
    }
   ],
   "source": [
    "x_test.shape"
   ]
  },
  {
   "cell_type": "code",
   "execution_count": 10,
   "id": "93e287a2",
   "metadata": {},
   "outputs": [
    {
     "data": {
      "text/plain": [
       "array([5, 0, 4, ..., 5, 6, 8], dtype=uint8)"
      ]
     },
     "execution_count": 10,
     "metadata": {},
     "output_type": "execute_result"
    }
   ],
   "source": [
    "y_train"
   ]
  },
  {
   "cell_type": "markdown",
   "id": "d144348f",
   "metadata": {},
   "source": [
    "i.e. output of training set of MNIST Data set contains number from 0 to 9"
   ]
  },
  {
   "cell_type": "markdown",
   "id": "d91c2f4b",
   "metadata": {},
   "source": [
    "pixels value in the array of the first image vary from 0 to 255. So, we divide each pixel with 255 so that each value come in the range of 0 to 1. By doing this, the weights can be assigned easily in the neural network algorithm and we can converge to the solution faster."
   ]
  },
  {
   "cell_type": "code",
   "execution_count": 11,
   "id": "125611e2",
   "metadata": {},
   "outputs": [],
   "source": [
    "x_train = x_train/255\n",
    "x_test = x_test/255"
   ]
  },
  {
   "cell_type": "code",
   "execution_count": 12,
   "id": "e330efcb",
   "metadata": {},
   "outputs": [
    {
     "data": {
      "text/plain": [
       "array([[0.        , 0.        , 0.        , 0.        , 0.        ,\n",
       "        0.        , 0.        , 0.        , 0.        , 0.        ,\n",
       "        0.        , 0.        , 0.        , 0.        , 0.        ,\n",
       "        0.        , 0.        , 0.        , 0.        , 0.        ,\n",
       "        0.        , 0.        , 0.        , 0.        , 0.        ,\n",
       "        0.        , 0.        , 0.        ],\n",
       "       [0.        , 0.        , 0.        , 0.        , 0.        ,\n",
       "        0.        , 0.        , 0.        , 0.        , 0.        ,\n",
       "        0.        , 0.        , 0.        , 0.        , 0.        ,\n",
       "        0.        , 0.        , 0.        , 0.        , 0.        ,\n",
       "        0.        , 0.        , 0.        , 0.        , 0.        ,\n",
       "        0.        , 0.        , 0.        ],\n",
       "       [0.        , 0.        , 0.        , 0.        , 0.        ,\n",
       "        0.        , 0.        , 0.        , 0.        , 0.        ,\n",
       "        0.        , 0.        , 0.        , 0.        , 0.        ,\n",
       "        0.        , 0.        , 0.        , 0.        , 0.        ,\n",
       "        0.        , 0.        , 0.        , 0.        , 0.        ,\n",
       "        0.        , 0.        , 0.        ],\n",
       "       [0.        , 0.        , 0.        , 0.        , 0.        ,\n",
       "        0.        , 0.        , 0.        , 0.        , 0.        ,\n",
       "        0.        , 0.        , 0.        , 0.        , 0.        ,\n",
       "        0.        , 0.        , 0.        , 0.        , 0.        ,\n",
       "        0.        , 0.        , 0.        , 0.        , 0.        ,\n",
       "        0.        , 0.        , 0.        ],\n",
       "       [0.        , 0.        , 0.        , 0.        , 0.        ,\n",
       "        0.        , 0.        , 0.        , 0.        , 0.        ,\n",
       "        0.        , 0.        , 0.        , 0.        , 0.        ,\n",
       "        0.        , 0.        , 0.        , 0.        , 0.        ,\n",
       "        0.        , 0.        , 0.        , 0.        , 0.        ,\n",
       "        0.        , 0.        , 0.        ],\n",
       "       [0.        , 0.        , 0.        , 0.        , 0.        ,\n",
       "        0.        , 0.        , 0.        , 0.        , 0.        ,\n",
       "        0.        , 0.        , 0.01176471, 0.07058824, 0.07058824,\n",
       "        0.07058824, 0.49411765, 0.53333333, 0.68627451, 0.10196078,\n",
       "        0.65098039, 1.        , 0.96862745, 0.49803922, 0.        ,\n",
       "        0.        , 0.        , 0.        ],\n",
       "       [0.        , 0.        , 0.        , 0.        , 0.        ,\n",
       "        0.        , 0.        , 0.        , 0.11764706, 0.14117647,\n",
       "        0.36862745, 0.60392157, 0.66666667, 0.99215686, 0.99215686,\n",
       "        0.99215686, 0.99215686, 0.99215686, 0.88235294, 0.6745098 ,\n",
       "        0.99215686, 0.94901961, 0.76470588, 0.25098039, 0.        ,\n",
       "        0.        , 0.        , 0.        ],\n",
       "       [0.        , 0.        , 0.        , 0.        , 0.        ,\n",
       "        0.        , 0.        , 0.19215686, 0.93333333, 0.99215686,\n",
       "        0.99215686, 0.99215686, 0.99215686, 0.99215686, 0.99215686,\n",
       "        0.99215686, 0.99215686, 0.98431373, 0.36470588, 0.32156863,\n",
       "        0.32156863, 0.21960784, 0.15294118, 0.        , 0.        ,\n",
       "        0.        , 0.        , 0.        ],\n",
       "       [0.        , 0.        , 0.        , 0.        , 0.        ,\n",
       "        0.        , 0.        , 0.07058824, 0.85882353, 0.99215686,\n",
       "        0.99215686, 0.99215686, 0.99215686, 0.99215686, 0.77647059,\n",
       "        0.71372549, 0.96862745, 0.94509804, 0.        , 0.        ,\n",
       "        0.        , 0.        , 0.        , 0.        , 0.        ,\n",
       "        0.        , 0.        , 0.        ],\n",
       "       [0.        , 0.        , 0.        , 0.        , 0.        ,\n",
       "        0.        , 0.        , 0.        , 0.31372549, 0.61176471,\n",
       "        0.41960784, 0.99215686, 0.99215686, 0.80392157, 0.04313725,\n",
       "        0.        , 0.16862745, 0.60392157, 0.        , 0.        ,\n",
       "        0.        , 0.        , 0.        , 0.        , 0.        ,\n",
       "        0.        , 0.        , 0.        ],\n",
       "       [0.        , 0.        , 0.        , 0.        , 0.        ,\n",
       "        0.        , 0.        , 0.        , 0.        , 0.05490196,\n",
       "        0.00392157, 0.60392157, 0.99215686, 0.35294118, 0.        ,\n",
       "        0.        , 0.        , 0.        , 0.        , 0.        ,\n",
       "        0.        , 0.        , 0.        , 0.        , 0.        ,\n",
       "        0.        , 0.        , 0.        ],\n",
       "       [0.        , 0.        , 0.        , 0.        , 0.        ,\n",
       "        0.        , 0.        , 0.        , 0.        , 0.        ,\n",
       "        0.        , 0.54509804, 0.99215686, 0.74509804, 0.00784314,\n",
       "        0.        , 0.        , 0.        , 0.        , 0.        ,\n",
       "        0.        , 0.        , 0.        , 0.        , 0.        ,\n",
       "        0.        , 0.        , 0.        ],\n",
       "       [0.        , 0.        , 0.        , 0.        , 0.        ,\n",
       "        0.        , 0.        , 0.        , 0.        , 0.        ,\n",
       "        0.        , 0.04313725, 0.74509804, 0.99215686, 0.2745098 ,\n",
       "        0.        , 0.        , 0.        , 0.        , 0.        ,\n",
       "        0.        , 0.        , 0.        , 0.        , 0.        ,\n",
       "        0.        , 0.        , 0.        ],\n",
       "       [0.        , 0.        , 0.        , 0.        , 0.        ,\n",
       "        0.        , 0.        , 0.        , 0.        , 0.        ,\n",
       "        0.        , 0.        , 0.1372549 , 0.94509804, 0.88235294,\n",
       "        0.62745098, 0.42352941, 0.00392157, 0.        , 0.        ,\n",
       "        0.        , 0.        , 0.        , 0.        , 0.        ,\n",
       "        0.        , 0.        , 0.        ],\n",
       "       [0.        , 0.        , 0.        , 0.        , 0.        ,\n",
       "        0.        , 0.        , 0.        , 0.        , 0.        ,\n",
       "        0.        , 0.        , 0.        , 0.31764706, 0.94117647,\n",
       "        0.99215686, 0.99215686, 0.46666667, 0.09803922, 0.        ,\n",
       "        0.        , 0.        , 0.        , 0.        , 0.        ,\n",
       "        0.        , 0.        , 0.        ],\n",
       "       [0.        , 0.        , 0.        , 0.        , 0.        ,\n",
       "        0.        , 0.        , 0.        , 0.        , 0.        ,\n",
       "        0.        , 0.        , 0.        , 0.        , 0.17647059,\n",
       "        0.72941176, 0.99215686, 0.99215686, 0.58823529, 0.10588235,\n",
       "        0.        , 0.        , 0.        , 0.        , 0.        ,\n",
       "        0.        , 0.        , 0.        ],\n",
       "       [0.        , 0.        , 0.        , 0.        , 0.        ,\n",
       "        0.        , 0.        , 0.        , 0.        , 0.        ,\n",
       "        0.        , 0.        , 0.        , 0.        , 0.        ,\n",
       "        0.0627451 , 0.36470588, 0.98823529, 0.99215686, 0.73333333,\n",
       "        0.        , 0.        , 0.        , 0.        , 0.        ,\n",
       "        0.        , 0.        , 0.        ],\n",
       "       [0.        , 0.        , 0.        , 0.        , 0.        ,\n",
       "        0.        , 0.        , 0.        , 0.        , 0.        ,\n",
       "        0.        , 0.        , 0.        , 0.        , 0.        ,\n",
       "        0.        , 0.        , 0.97647059, 0.99215686, 0.97647059,\n",
       "        0.25098039, 0.        , 0.        , 0.        , 0.        ,\n",
       "        0.        , 0.        , 0.        ],\n",
       "       [0.        , 0.        , 0.        , 0.        , 0.        ,\n",
       "        0.        , 0.        , 0.        , 0.        , 0.        ,\n",
       "        0.        , 0.        , 0.        , 0.        , 0.18039216,\n",
       "        0.50980392, 0.71764706, 0.99215686, 0.99215686, 0.81176471,\n",
       "        0.00784314, 0.        , 0.        , 0.        , 0.        ,\n",
       "        0.        , 0.        , 0.        ],\n",
       "       [0.        , 0.        , 0.        , 0.        , 0.        ,\n",
       "        0.        , 0.        , 0.        , 0.        , 0.        ,\n",
       "        0.        , 0.        , 0.15294118, 0.58039216, 0.89803922,\n",
       "        0.99215686, 0.99215686, 0.99215686, 0.98039216, 0.71372549,\n",
       "        0.        , 0.        , 0.        , 0.        , 0.        ,\n",
       "        0.        , 0.        , 0.        ],\n",
       "       [0.        , 0.        , 0.        , 0.        , 0.        ,\n",
       "        0.        , 0.        , 0.        , 0.        , 0.        ,\n",
       "        0.09411765, 0.44705882, 0.86666667, 0.99215686, 0.99215686,\n",
       "        0.99215686, 0.99215686, 0.78823529, 0.30588235, 0.        ,\n",
       "        0.        , 0.        , 0.        , 0.        , 0.        ,\n",
       "        0.        , 0.        , 0.        ],\n",
       "       [0.        , 0.        , 0.        , 0.        , 0.        ,\n",
       "        0.        , 0.        , 0.        , 0.09019608, 0.25882353,\n",
       "        0.83529412, 0.99215686, 0.99215686, 0.99215686, 0.99215686,\n",
       "        0.77647059, 0.31764706, 0.00784314, 0.        , 0.        ,\n",
       "        0.        , 0.        , 0.        , 0.        , 0.        ,\n",
       "        0.        , 0.        , 0.        ],\n",
       "       [0.        , 0.        , 0.        , 0.        , 0.        ,\n",
       "        0.        , 0.07058824, 0.67058824, 0.85882353, 0.99215686,\n",
       "        0.99215686, 0.99215686, 0.99215686, 0.76470588, 0.31372549,\n",
       "        0.03529412, 0.        , 0.        , 0.        , 0.        ,\n",
       "        0.        , 0.        , 0.        , 0.        , 0.        ,\n",
       "        0.        , 0.        , 0.        ],\n",
       "       [0.        , 0.        , 0.        , 0.        , 0.21568627,\n",
       "        0.6745098 , 0.88627451, 0.99215686, 0.99215686, 0.99215686,\n",
       "        0.99215686, 0.95686275, 0.52156863, 0.04313725, 0.        ,\n",
       "        0.        , 0.        , 0.        , 0.        , 0.        ,\n",
       "        0.        , 0.        , 0.        , 0.        , 0.        ,\n",
       "        0.        , 0.        , 0.        ],\n",
       "       [0.        , 0.        , 0.        , 0.        , 0.53333333,\n",
       "        0.99215686, 0.99215686, 0.99215686, 0.83137255, 0.52941176,\n",
       "        0.51764706, 0.0627451 , 0.        , 0.        , 0.        ,\n",
       "        0.        , 0.        , 0.        , 0.        , 0.        ,\n",
       "        0.        , 0.        , 0.        , 0.        , 0.        ,\n",
       "        0.        , 0.        , 0.        ],\n",
       "       [0.        , 0.        , 0.        , 0.        , 0.        ,\n",
       "        0.        , 0.        , 0.        , 0.        , 0.        ,\n",
       "        0.        , 0.        , 0.        , 0.        , 0.        ,\n",
       "        0.        , 0.        , 0.        , 0.        , 0.        ,\n",
       "        0.        , 0.        , 0.        , 0.        , 0.        ,\n",
       "        0.        , 0.        , 0.        ],\n",
       "       [0.        , 0.        , 0.        , 0.        , 0.        ,\n",
       "        0.        , 0.        , 0.        , 0.        , 0.        ,\n",
       "        0.        , 0.        , 0.        , 0.        , 0.        ,\n",
       "        0.        , 0.        , 0.        , 0.        , 0.        ,\n",
       "        0.        , 0.        , 0.        , 0.        , 0.        ,\n",
       "        0.        , 0.        , 0.        ],\n",
       "       [0.        , 0.        , 0.        , 0.        , 0.        ,\n",
       "        0.        , 0.        , 0.        , 0.        , 0.        ,\n",
       "        0.        , 0.        , 0.        , 0.        , 0.        ,\n",
       "        0.        , 0.        , 0.        , 0.        , 0.        ,\n",
       "        0.        , 0.        , 0.        , 0.        , 0.        ,\n",
       "        0.        , 0.        , 0.        ]])"
      ]
     },
     "execution_count": 12,
     "metadata": {},
     "output_type": "execute_result"
    }
   ],
   "source": [
    "x_train[0]"
   ]
  },
  {
   "cell_type": "markdown",
   "id": "e610ea66",
   "metadata": {},
   "source": [
    "## Flattening and Modeling"
   ]
  },
  {
   "cell_type": "markdown",
   "id": "46efba54",
   "metadata": {},
   "source": [
    "each x_train is present in 2D array (i.e. 28 * 28) but to give input to the first layer of neural network we have to flatten 2D to 1D by keeping all row of 2D array side by side (i.e. 28 * 28=784) "
   ]
  },
  {
   "cell_type": "code",
   "execution_count": 13,
   "id": "8ba0ef61",
   "metadata": {},
   "outputs": [],
   "source": [
    "model = Sequential()"
   ]
  },
  {
   "cell_type": "code",
   "execution_count": 14,
   "id": "79edb7a6",
   "metadata": {},
   "outputs": [],
   "source": [
    "model.add(Flatten(input_shape = (28,28)))          # it gives 784 input to the first layer"
   ]
  },
  {
   "cell_type": "code",
   "execution_count": 15,
   "id": "f4760e55",
   "metadata": {},
   "outputs": [],
   "source": [
    "model.add(Dense(128, activation = 'relu'))      # we take 128 nodes in the first layer and here we don't have to specify the number of input since it automatically takes input from flatten. relu activation function perform better than sigmoid\n",
    "model.add(Dense(32, activation = 'relu'))\n",
    "model.add(Dense(10, activation = 'softmax'))    # in multiclassification we always use softmax activation function at the output layer to have best performance"
   ]
  },
  {
   "cell_type": "code",
   "execution_count": 16,
   "id": "cde03133",
   "metadata": {},
   "outputs": [
    {
     "name": "stdout",
     "output_type": "stream",
     "text": [
      "Model: \"sequential\"\n",
      "_________________________________________________________________\n",
      " Layer (type)                Output Shape              Param #   \n",
      "=================================================================\n",
      " flatten (Flatten)           (None, 784)               0         \n",
      "                                                                 \n",
      " dense (Dense)               (None, 128)               100480    \n",
      "                                                                 \n",
      " dense_1 (Dense)             (None, 32)                4128      \n",
      "                                                                 \n",
      " dense_2 (Dense)             (None, 10)                330       \n",
      "                                                                 \n",
      "=================================================================\n",
      "Total params: 104,938\n",
      "Trainable params: 104,938\n",
      "Non-trainable params: 0\n",
      "_________________________________________________________________\n"
     ]
    }
   ],
   "source": [
    "model.summary()"
   ]
  },
  {
   "cell_type": "code",
   "execution_count": 17,
   "id": "16fd48cc",
   "metadata": {},
   "outputs": [],
   "source": [
    "model.compile(loss = 'sparse_categorical_crossentropy', optimizer = 'Adam', metrics = ['accuracy'])         # in sparse_categorical_crossentropy we don't have to do label encoding whereas in categorical_crossentropy we have to do label encoding manually"
   ]
  },
  {
   "cell_type": "markdown",
   "id": "007f7734",
   "metadata": {},
   "source": [
    "// Note // In MultiClassification we always use Categorical Cross Entropy loss function (log loss function). We can also use Sparse Categorical Cross Entropy.\n",
    "\n",
    "And if the target column has nominal variable then we first apply encoding on it if Categorical Cross Entropy is used. If Sparse Categorical Cross Entropy is used then we assign integer value to the nominal data i.e. 1,2,3 and so on"
   ]
  },
  {
   "cell_type": "code",
   "execution_count": 18,
   "id": "3d316aa6",
   "metadata": {},
   "outputs": [
    {
     "name": "stdout",
     "output_type": "stream",
     "text": [
      "Epoch 1/25\n",
      "1500/1500 [==============================] - 7s 4ms/step - loss: 0.2807 - accuracy: 0.9179 - val_loss: 0.1487 - val_accuracy: 0.9573\n",
      "Epoch 2/25\n",
      "1500/1500 [==============================] - 6s 4ms/step - loss: 0.1188 - accuracy: 0.9645 - val_loss: 0.1210 - val_accuracy: 0.9638\n",
      "Epoch 3/25\n",
      "1500/1500 [==============================] - 6s 4ms/step - loss: 0.0795 - accuracy: 0.9755 - val_loss: 0.1063 - val_accuracy: 0.9703\n",
      "Epoch 4/25\n",
      "1500/1500 [==============================] - 6s 4ms/step - loss: 0.0624 - accuracy: 0.9809 - val_loss: 0.0996 - val_accuracy: 0.9700\n",
      "Epoch 5/25\n",
      "1500/1500 [==============================] - 6s 4ms/step - loss: 0.0466 - accuracy: 0.9851 - val_loss: 0.0889 - val_accuracy: 0.9747\n",
      "Epoch 6/25\n",
      "1500/1500 [==============================] - 6s 4ms/step - loss: 0.0383 - accuracy: 0.9875 - val_loss: 0.0955 - val_accuracy: 0.9742\n",
      "Epoch 7/25\n",
      "1500/1500 [==============================] - 6s 4ms/step - loss: 0.0295 - accuracy: 0.9904 - val_loss: 0.1047 - val_accuracy: 0.9728\n",
      "Epoch 8/25\n",
      "1500/1500 [==============================] - 6s 4ms/step - loss: 0.0259 - accuracy: 0.9914 - val_loss: 0.0940 - val_accuracy: 0.9744\n",
      "Epoch 9/25\n",
      "1500/1500 [==============================] - 7s 4ms/step - loss: 0.0222 - accuracy: 0.9924 - val_loss: 0.1139 - val_accuracy: 0.9713\n",
      "Epoch 10/25\n",
      "1500/1500 [==============================] - 7s 4ms/step - loss: 0.0180 - accuracy: 0.9941 - val_loss: 0.1193 - val_accuracy: 0.9722\n",
      "Epoch 11/25\n",
      "1500/1500 [==============================] - 6s 4ms/step - loss: 0.0182 - accuracy: 0.9941 - val_loss: 0.1098 - val_accuracy: 0.9753\n",
      "Epoch 12/25\n",
      "1500/1500 [==============================] - 6s 4ms/step - loss: 0.0168 - accuracy: 0.9946 - val_loss: 0.1254 - val_accuracy: 0.9733\n",
      "Epoch 13/25\n",
      "1500/1500 [==============================] - 6s 4ms/step - loss: 0.0149 - accuracy: 0.9948 - val_loss: 0.1084 - val_accuracy: 0.9761\n",
      "Epoch 14/25\n",
      "1500/1500 [==============================] - 6s 4ms/step - loss: 0.0133 - accuracy: 0.9958 - val_loss: 0.1393 - val_accuracy: 0.9726\n",
      "Epoch 15/25\n",
      "1500/1500 [==============================] - 6s 4ms/step - loss: 0.0104 - accuracy: 0.9969 - val_loss: 0.1204 - val_accuracy: 0.9753\n",
      "Epoch 16/25\n",
      "1500/1500 [==============================] - 6s 4ms/step - loss: 0.0125 - accuracy: 0.9958 - val_loss: 0.1228 - val_accuracy: 0.9750\n",
      "Epoch 17/25\n",
      "1500/1500 [==============================] - 6s 4ms/step - loss: 0.0105 - accuracy: 0.9965 - val_loss: 0.1330 - val_accuracy: 0.9759\n",
      "Epoch 18/25\n",
      "1500/1500 [==============================] - 6s 4ms/step - loss: 0.0111 - accuracy: 0.9960 - val_loss: 0.1415 - val_accuracy: 0.9744\n",
      "Epoch 19/25\n",
      "1500/1500 [==============================] - 6s 4ms/step - loss: 0.0090 - accuracy: 0.9970 - val_loss: 0.1314 - val_accuracy: 0.9767\n",
      "Epoch 20/25\n",
      "1500/1500 [==============================] - 6s 4ms/step - loss: 0.0074 - accuracy: 0.9974 - val_loss: 0.1402 - val_accuracy: 0.9753\n",
      "Epoch 21/25\n",
      "1500/1500 [==============================] - 6s 4ms/step - loss: 0.0070 - accuracy: 0.9977 - val_loss: 0.1374 - val_accuracy: 0.9749\n",
      "Epoch 22/25\n",
      "1500/1500 [==============================] - 7s 4ms/step - loss: 0.0113 - accuracy: 0.9963 - val_loss: 0.1471 - val_accuracy: 0.9754\n",
      "Epoch 23/25\n",
      "1500/1500 [==============================] - 6s 4ms/step - loss: 0.0089 - accuracy: 0.9970 - val_loss: 0.1556 - val_accuracy: 0.9741\n",
      "Epoch 24/25\n",
      "1500/1500 [==============================] - 6s 4ms/step - loss: 0.0069 - accuracy: 0.9977 - val_loss: 0.1697 - val_accuracy: 0.9737\n",
      "Epoch 25/25\n",
      "1500/1500 [==============================] - 6s 4ms/step - loss: 0.0087 - accuracy: 0.9970 - val_loss: 0.2164 - val_accuracy: 0.9678\n"
     ]
    }
   ],
   "source": [
    "history = model.fit(x_train, y_train, epochs = 25, validation_split = 0.2)"
   ]
  },
  {
   "cell_type": "code",
   "execution_count": 19,
   "id": "43822189",
   "metadata": {},
   "outputs": [
    {
     "data": {
      "text/plain": [
       "[array([[ 0.01994488, -0.01022476,  0.04698721, ...,  0.05773056,\n",
       "         -0.02138327, -0.06584902],\n",
       "        [-0.00209461, -0.01832289,  0.02987731, ..., -0.02339489,\n",
       "         -0.0157308 , -0.03356166],\n",
       "        [ 0.02776324, -0.07906077,  0.06744481, ...,  0.0202204 ,\n",
       "          0.04893271,  0.01119413],\n",
       "        ...,\n",
       "        [-0.06258173, -0.05357765,  0.04351711, ...,  0.01101565,\n",
       "         -0.02152896, -0.07855658],\n",
       "        [ 0.05081856, -0.07016757, -0.04673562, ..., -0.06973244,\n",
       "          0.0240558 , -0.06062588],\n",
       "        [ 0.00817724,  0.01751984,  0.01148418, ...,  0.03632365,\n",
       "         -0.06511626, -0.06089375]], dtype=float32),\n",
       " array([-0.07588982,  0.06697131,  0.0625447 , -0.1697792 , -0.14950822,\n",
       "        -0.02855461,  0.06115026, -0.0052922 , -0.21082543,  0.11764156,\n",
       "         0.14227967, -0.07013196, -0.00479573,  0.08533227,  0.0129625 ,\n",
       "        -0.04516822, -0.26944458, -0.15882087,  0.20318802, -0.1696869 ,\n",
       "        -0.08610659, -0.05365609, -0.0082022 ,  0.07097542, -0.10921427,\n",
       "         0.02746989,  0.06488867, -0.05071931,  0.05466863, -0.21815003,\n",
       "        -0.04172793, -0.02319853,  0.2286787 ,  0.02458561,  0.00658519,\n",
       "        -0.2615937 ,  0.00247952,  0.07484277,  0.18190175, -0.00742231,\n",
       "        -0.02046056,  0.00042861,  0.08307628,  0.08504731,  0.12474076,\n",
       "        -0.04550533, -0.11506075,  0.01023883, -0.14063373,  0.04958244,\n",
       "        -0.05557154, -0.04879225,  0.13719745, -0.02716325,  0.04213361,\n",
       "         0.08589513,  0.0577183 ,  0.19787012, -0.08096021, -0.06968143,\n",
       "         0.1650115 , -0.12096483, -0.07289839,  0.11477043, -0.03325083,\n",
       "        -0.23801349,  0.18629488,  0.09176084,  0.17242314, -0.0181876 ,\n",
       "        -0.0367533 , -0.04230457,  0.03597125, -0.13598911,  0.0919574 ,\n",
       "         0.02111012,  0.11916013,  0.08389523,  0.19959867, -0.05460174,\n",
       "        -0.00239591,  0.01530214,  0.16817243, -0.15872742,  0.1112074 ,\n",
       "        -0.0646765 , -0.07141821, -0.01275593, -0.19555171,  0.02884585,\n",
       "         0.09055127,  0.20315441,  0.06825852, -0.2486302 ,  0.0432913 ,\n",
       "         0.05094524,  0.06552514, -0.28315243, -0.13821112,  0.14024809,\n",
       "         0.02069336,  0.04630139,  0.0377054 , -0.0549779 , -0.1307479 ,\n",
       "         0.01083671, -0.14130108, -0.23144194, -0.15262589,  0.03366361,\n",
       "         0.13492523, -0.0479759 , -0.00866223, -0.13818102,  0.24034055,\n",
       "        -0.12692493, -0.19899307,  0.10292187,  0.07326328, -0.11206456,\n",
       "         0.062046  ,  0.10023217, -0.09159169,  0.03581666, -0.03417636,\n",
       "         0.14831457,  0.02715014,  0.1847411 ], dtype=float32)]"
      ]
     },
     "execution_count": 19,
     "metadata": {},
     "output_type": "execute_result"
    }
   ],
   "source": [
    "model.layers[1].get_weights()"
   ]
  },
  {
   "cell_type": "code",
   "execution_count": 20,
   "id": "ff8335a1",
   "metadata": {},
   "outputs": [
    {
     "data": {
      "text/plain": [
       "[array([[ 0.41983756,  0.3099758 , -0.2096044 , ...,  0.30549166,\n",
       "          0.22477967,  0.19495802],\n",
       "        [ 0.10360929,  0.13840427,  0.1247846 , ...,  0.26842347,\n",
       "          0.07668174, -0.00867488],\n",
       "        [-0.16537282,  0.06828619, -0.0136615 , ..., -0.04308242,\n",
       "          0.4941623 , -0.14248116],\n",
       "        ...,\n",
       "        [ 0.19407658,  0.05783115, -0.01041102, ..., -0.09923702,\n",
       "         -0.08816029,  0.36127442],\n",
       "        [ 0.04911445,  0.03127518,  0.04294895, ...,  0.5351144 ,\n",
       "          0.2837621 , -0.40201336],\n",
       "        [ 0.16314667,  0.351408  , -0.27957523, ..., -0.04757562,\n",
       "          0.36884975, -0.10028154]], dtype=float32),\n",
       " array([ 0.06031964,  0.04737858,  0.01640906,  0.2527421 ,  0.3954066 ,\n",
       "         0.11619715, -0.22407527, -0.11712147, -0.14790916,  0.36099195,\n",
       "        -0.23806083,  0.23828457,  0.18274802, -0.06657751, -0.06286743,\n",
       "        -0.11726723,  0.05205877, -0.09141297,  0.27510735,  0.24337667,\n",
       "         0.36508164,  0.13968942, -0.15603295, -0.16004951,  0.06378101,\n",
       "         0.09483238,  0.28454983, -0.16338888,  0.10921082,  0.06991853,\n",
       "        -0.11557728,  0.3257771 ], dtype=float32)]"
      ]
     },
     "execution_count": 20,
     "metadata": {},
     "output_type": "execute_result"
    }
   ],
   "source": [
    "model.layers[2].get_weights()"
   ]
  },
  {
   "cell_type": "code",
   "execution_count": 21,
   "id": "09448d15",
   "metadata": {},
   "outputs": [
    {
     "data": {
      "text/plain": [
       "[array([[-0.5214167 ,  0.28148767,  0.27945876,  0.49358717, -0.63985205,\n",
       "          0.34440142, -0.38569432,  0.23129784,  0.3388352 , -0.44791046],\n",
       "        [ 0.05395444, -0.66418284, -0.1833129 ,  0.4319773 ,  0.28480524,\n",
       "         -0.06790912,  0.03294611,  0.21848352, -0.54583555, -0.7958253 ],\n",
       "        [ 0.21198316,  0.12331011,  0.43526843, -0.36644024,  0.60236377,\n",
       "         -0.05633353,  0.21586093, -0.70008224, -0.71981496,  0.41702783],\n",
       "        [ 0.2501968 , -0.48951635, -0.23731183,  0.2729288 , -0.55396146,\n",
       "          0.09362675, -0.0599688 , -0.7370669 ,  0.19819902,  0.337581  ],\n",
       "        [-0.9892988 , -0.938716  , -0.50049603,  0.12214144,  0.13083471,\n",
       "          0.46757138, -0.2566604 , -0.17280492,  0.12667601,  0.08286124],\n",
       "        [ 0.27309126, -1.285119  , -0.7211471 , -0.3559187 , -0.8546864 ,\n",
       "          0.50484705, -0.7105661 , -0.29173243,  0.05642135, -0.09643008],\n",
       "        [ 0.22364976, -0.41766152,  0.56040645, -0.11446477, -0.75633097,\n",
       "         -0.43420148,  0.40382308,  0.16966914, -0.4070592 , -0.5455029 ],\n",
       "        [ 0.24770582, -0.5954599 , -0.06235217,  0.02366072,  0.06788728,\n",
       "         -0.5457931 , -0.2712092 , -0.18504505, -0.45994842,  0.23462188],\n",
       "        [ 0.34275126,  0.24670686, -0.1617625 ,  0.01077708, -0.99466825,\n",
       "          0.5415493 , -0.13311665, -0.04522978, -0.38396132, -0.4658738 ],\n",
       "        [ 0.33206186, -0.39412627, -0.5089145 , -0.22410448,  0.38441384,\n",
       "         -0.41187975,  0.41108724,  0.2044801 ,  0.49852744, -0.22892211],\n",
       "        [-0.11783023,  0.54517657, -0.23154905,  0.10169551,  0.534623  ,\n",
       "         -0.29679397, -0.38076514,  0.36474118, -0.6672615 ,  0.3368243 ],\n",
       "        [-0.6328928 , -0.3084054 ,  0.1425829 , -0.17295083,  0.34171793,\n",
       "         -0.00545891,  0.13830337,  0.09528456,  0.23698726, -0.00463316],\n",
       "        [-0.4253497 ,  0.34863842,  0.58542013, -0.65122515,  0.37152985,\n",
       "         -0.01122198, -0.03259699, -0.44812813,  0.20474698, -0.54552484],\n",
       "        [ 0.21413621, -0.26514286,  0.22786087, -0.4360639 , -0.10916319,\n",
       "          0.16155736, -0.18752003,  0.13428034, -0.5040041 ,  0.2920688 ],\n",
       "        [-0.41964072,  0.332293  ,  0.39160803,  0.3369332 ,  0.06018757,\n",
       "         -0.00809108,  0.28076407, -0.13096845,  0.19377573,  0.24507578],\n",
       "        [-0.36900577, -0.07892151,  0.22472511,  0.18015751, -0.17167594,\n",
       "         -0.48682696, -0.58286256,  0.5766367 , -0.28800952,  0.43882903],\n",
       "        [ 0.29078034, -0.04604495, -0.35482267, -0.66629994,  0.14717658,\n",
       "          0.40199718, -0.01991544, -0.46733987, -0.5127352 ,  0.40018675],\n",
       "        [-0.01129929, -0.43731126, -0.49780908,  0.06787099,  0.39306054,\n",
       "         -0.25944734,  0.09080579,  0.250038  , -0.35377848,  0.5196557 ],\n",
       "        [-0.01572733, -0.3014461 ,  0.17712075,  0.12461858, -0.44984373,\n",
       "         -0.02299963,  0.56833535, -0.72331905,  0.443122  ,  0.1570114 ],\n",
       "        [ 0.1852749 ,  0.24540451, -0.39888   , -0.6602728 ,  0.21317671,\n",
       "          0.35245886,  0.37665966,  0.3686669 ,  0.38751647, -0.36293778],\n",
       "        [-0.6440997 ,  0.23596737, -0.02613447,  0.27435905,  0.20559621,\n",
       "         -0.08892375, -0.8060262 , -0.40611315,  0.2749794 ,  0.39098853],\n",
       "        [ 0.299523  ,  0.45925286, -0.7292083 , -0.653556  , -0.01859687,\n",
       "         -0.26503062,  0.29302782,  0.02124624,  0.20562267,  0.29826942],\n",
       "        [-0.01090746, -0.25138238, -0.35395133,  0.1476769 ,  0.12632032,\n",
       "         -0.3741792 , -0.11180153, -0.346202  , -0.44483837,  0.46255556],\n",
       "        [ 0.52399504, -0.3041742 ,  0.132714  ,  0.07707156, -0.7962735 ,\n",
       "         -0.26897085,  0.24669203,  0.595197  , -0.281151  ,  0.18635435],\n",
       "        [-0.16125636, -0.17137681, -0.53184074, -0.72341174,  0.3829902 ,\n",
       "         -0.61915123,  0.30198228,  0.00244436,  0.13947551, -0.2744724 ],\n",
       "        [ 0.47837058, -0.15678792, -0.19856195, -0.4444623 ,  0.24937783,\n",
       "          0.10495222, -0.5930772 ,  0.36347046,  0.05696623, -0.25006634],\n",
       "        [-0.25307947, -0.2947681 ,  0.11127171, -0.32651117, -0.6609855 ,\n",
       "         -0.74005306, -0.5740521 ,  0.0866266 ,  0.20850107,  0.03051895],\n",
       "        [-0.65427715,  0.61257523, -0.60305387,  0.3940016 , -0.34109342,\n",
       "          0.06992702,  0.35008615,  0.01890927, -0.21989055, -0.46851626],\n",
       "        [-0.31970274, -0.543793  , -0.49232095,  0.02865492, -0.301205  ,\n",
       "          0.44032252,  0.538937  , -0.78778875,  0.21613438,  0.48717108],\n",
       "        [-0.16021809,  0.26181105,  0.21890257, -0.28496793,  0.06958904,\n",
       "          0.43517834, -0.7752251 ,  0.40338   ,  0.15119298,  0.30146146],\n",
       "        [ 0.11293884, -0.6112492 , -0.37612468,  0.1215542 ,  0.03891174,\n",
       "          0.15627794, -0.41027856, -0.01025171, -0.45456558,  0.03116398],\n",
       "        [ 0.5674268 ,  0.15206747,  0.2863207 ,  0.39692694, -0.07366705,\n",
       "         -0.6541237 , -0.6716392 , -0.4015778 ,  0.3716816 ,  0.34770548]],\n",
       "       dtype=float32),\n",
       " array([ 0.02530687, -0.16961989, -0.02275579, -0.1227887 ,  0.06211875,\n",
       "        -0.11523821, -0.12719765, -0.18833537,  0.42671242,  0.06574903],\n",
       "       dtype=float32)]"
      ]
     },
     "execution_count": 21,
     "metadata": {},
     "output_type": "execute_result"
    }
   ],
   "source": [
    "model.layers[3].get_weights()"
   ]
  },
  {
   "cell_type": "code",
   "execution_count": 22,
   "id": "8a5f5df8",
   "metadata": {},
   "outputs": [
    {
     "name": "stdout",
     "output_type": "stream",
     "text": [
      "313/313 [==============================] - 1s 3ms/step\n"
     ]
    },
    {
     "data": {
      "text/plain": [
       "array([[1.1666541e-16, 1.0786748e-15, 4.8609063e-14, ..., 1.0000000e+00,\n",
       "        6.7595757e-17, 2.9775298e-13],\n",
       "       [1.8199880e-25, 3.0529303e-12, 1.0000000e+00, ..., 2.8202478e-27,\n",
       "        1.3970374e-16, 7.7594449e-25],\n",
       "       [6.3178311e-15, 9.9999988e-01, 3.5068020e-09, ..., 2.2463244e-08,\n",
       "        1.3361576e-07, 5.6504363e-12],\n",
       "       ...,\n",
       "       [4.5001064e-22, 1.7607720e-18, 7.2271060e-26, ..., 1.9040714e-13,\n",
       "        1.8737969e-17, 2.9976683e-09],\n",
       "       [6.7784356e-29, 3.7593579e-32, 5.0168812e-37, ..., 5.0017445e-23,\n",
       "        4.0455318e-16, 1.8339847e-30],\n",
       "       [1.0014061e-20, 7.6625290e-31, 6.8528145e-23, ..., 2.6798491e-36,\n",
       "        2.3450087e-19, 5.1187404e-14]], dtype=float32)"
      ]
     },
     "execution_count": 22,
     "metadata": {},
     "output_type": "execute_result"
    }
   ],
   "source": [
    "y_prob = model.predict(x_test)\n",
    "y_prob"
   ]
  },
  {
   "cell_type": "markdown",
   "id": "c055165f",
   "metadata": {},
   "source": [
    "it gives the probability for each number from 0 to 9 and for 10,000 images"
   ]
  },
  {
   "cell_type": "markdown",
   "id": "30b68c11",
   "metadata": {},
   "source": [
    "but we have to show the actual number between 0 to 9 in the output and for this we have to find the index position of highest probability for each images and this index position is itself is the y_pred"
   ]
  },
  {
   "cell_type": "code",
   "execution_count": 23,
   "id": "35c40e5a",
   "metadata": {},
   "outputs": [
    {
     "data": {
      "text/plain": [
       "array([7, 2, 1, ..., 4, 5, 6], dtype=int64)"
      ]
     },
     "execution_count": 23,
     "metadata": {},
     "output_type": "execute_result"
    }
   ],
   "source": [
    "y_pred = y_prob.argmax(axis=1)\n",
    "y_pred"
   ]
  },
  {
   "cell_type": "markdown",
   "id": "99cdfc95",
   "metadata": {},
   "source": [
    "this shows that our first image is 7, second image is 2 and so on..."
   ]
  },
  {
   "cell_type": "code",
   "execution_count": 24,
   "id": "46ddcca3",
   "metadata": {},
   "outputs": [],
   "source": [
    "from sklearn.metrics import accuracy_score"
   ]
  },
  {
   "cell_type": "code",
   "execution_count": 25,
   "id": "e82b1b09",
   "metadata": {},
   "outputs": [
    {
     "data": {
      "text/plain": [
       "0.9707"
      ]
     },
     "execution_count": 25,
     "metadata": {},
     "output_type": "execute_result"
    }
   ],
   "source": [
    "accuracy_score(y_test, y_pred)"
   ]
  },
  {
   "cell_type": "code",
   "execution_count": 26,
   "id": "b0bacf1d",
   "metadata": {},
   "outputs": [],
   "source": [
    "import matplotlib.pyplot as plt"
   ]
  },
  {
   "cell_type": "code",
   "execution_count": 27,
   "id": "cfc2a082",
   "metadata": {},
   "outputs": [
    {
     "data": {
      "text/plain": [
       "{'loss': [0.28074944019317627,\n",
       "  0.11882361024618149,\n",
       "  0.07952965050935745,\n",
       "  0.06241269037127495,\n",
       "  0.04660361260175705,\n",
       "  0.03828348219394684,\n",
       "  0.02948812022805214,\n",
       "  0.025875035673379898,\n",
       "  0.022244147956371307,\n",
       "  0.017957812175154686,\n",
       "  0.018214527517557144,\n",
       "  0.016788510605692863,\n",
       "  0.014930478297173977,\n",
       "  0.01332017220556736,\n",
       "  0.010393143631517887,\n",
       "  0.012474807910621166,\n",
       "  0.010531892068684101,\n",
       "  0.011145399883389473,\n",
       "  0.009017071686685085,\n",
       "  0.0073721325024962425,\n",
       "  0.006972880102694035,\n",
       "  0.011324651539325714,\n",
       "  0.008924895897507668,\n",
       "  0.006931339856237173,\n",
       "  0.008732604794204235],\n",
       " 'accuracy': [0.9179375171661377,\n",
       "  0.9645208120346069,\n",
       "  0.9754999876022339,\n",
       "  0.9808750152587891,\n",
       "  0.9851041436195374,\n",
       "  0.987458348274231,\n",
       "  0.9904166460037231,\n",
       "  0.9913541674613953,\n",
       "  0.9924166798591614,\n",
       "  0.9940624833106995,\n",
       "  0.9940624833106995,\n",
       "  0.9945833086967468,\n",
       "  0.9947916865348816,\n",
       "  0.9957916736602783,\n",
       "  0.996874988079071,\n",
       "  0.9958124756813049,\n",
       "  0.9965416789054871,\n",
       "  0.9959791898727417,\n",
       "  0.9970208406448364,\n",
       "  0.9974374771118164,\n",
       "  0.9977499842643738,\n",
       "  0.9962916374206543,\n",
       "  0.9969791769981384,\n",
       "  0.9976666569709778,\n",
       "  0.996958315372467],\n",
       " 'val_loss': [0.148685023188591,\n",
       "  0.12096916884183884,\n",
       "  0.10633174329996109,\n",
       "  0.0996064692735672,\n",
       "  0.08885900676250458,\n",
       "  0.09549088776111603,\n",
       "  0.10467924922704697,\n",
       "  0.09399177879095078,\n",
       "  0.11387082934379578,\n",
       "  0.11927606910467148,\n",
       "  0.10982596129179001,\n",
       "  0.12538942694664001,\n",
       "  0.10841263085603714,\n",
       "  0.13931965827941895,\n",
       "  0.12039928883314133,\n",
       "  0.12278807908296585,\n",
       "  0.132978618144989,\n",
       "  0.1415296047925949,\n",
       "  0.13140276074409485,\n",
       "  0.1402171105146408,\n",
       "  0.13740018010139465,\n",
       "  0.14710062742233276,\n",
       "  0.1555890440940857,\n",
       "  0.16968806087970734,\n",
       "  0.21641862392425537],\n",
       " 'val_accuracy': [0.9573333263397217,\n",
       "  0.9637500047683716,\n",
       "  0.9703333377838135,\n",
       "  0.9700000286102295,\n",
       "  0.9747499823570251,\n",
       "  0.9741666913032532,\n",
       "  0.9727500081062317,\n",
       "  0.9744166731834412,\n",
       "  0.9713333249092102,\n",
       "  0.9721666574478149,\n",
       "  0.9752500057220459,\n",
       "  0.9733333587646484,\n",
       "  0.9760833382606506,\n",
       "  0.9725833535194397,\n",
       "  0.9753333330154419,\n",
       "  0.9750000238418579,\n",
       "  0.9759166836738586,\n",
       "  0.9744166731834412,\n",
       "  0.9766666889190674,\n",
       "  0.9753333330154419,\n",
       "  0.9749166369438171,\n",
       "  0.9754166603088379,\n",
       "  0.9740833044052124,\n",
       "  0.9737499952316284,\n",
       "  0.9678333401679993]}"
      ]
     },
     "execution_count": 27,
     "metadata": {},
     "output_type": "execute_result"
    }
   ],
   "source": [
    "history.history"
   ]
  },
  {
   "cell_type": "code",
   "execution_count": 28,
   "id": "8ce6116b",
   "metadata": {},
   "outputs": [
    {
     "data": {
      "text/plain": [
       "[<matplotlib.lines.Line2D at 0x25ce39c0be0>]"
      ]
     },
     "execution_count": 28,
     "metadata": {},
     "output_type": "execute_result"
    },
    {
     "data": {
      "image/png": "[encoded data removed]",
      "text/plain": [
       "<Figure size 432x288 with 1 Axes>"
      ]
     },
     "metadata": {
      "needs_background": "light"
     },
     "output_type": "display_data"
    }
   ],
   "source": [
    "plt.plot(history.history['loss'])    # it gives how our training loss reduces while going from 1 to 25 epochs\n",
    "plt.plot(history.history['val_loss'])"
   ]
  },
  {
   "cell_type": "code",
   "execution_count": 29,
   "id": "2a5eb9f0",
   "metadata": {},
   "outputs": [
    {
     "data": {
      "text/plain": [
       "[<matplotlib.lines.Line2D at 0x25ce3ad3c70>]"
      ]
     },
     "execution_count": 29,
     "metadata": {},
     "output_type": "execute_result"
    },
    {
     "data": {
      "image/png": "[encoded data removed]",
      "text/plain": [
       "<Figure size 432x288 with 1 Axes>"
      ]
     },
     "metadata": {
      "needs_background": "light"
     },
     "output_type": "display_data"
    }
   ],
   "source": [
    "plt.plot(history.history['accuracy'])    # it gives how our training accuracy increases while going from 1 to 25 epochs\n",
    "plt.plot(history.history['val_accuracy'])"
   ]
  },
  {
   "cell_type": "markdown",
   "id": "17efac6b",
   "metadata": {},
   "source": [
    "from the graph we can see that the increasing of accuracy for both train and test data deviate somewhat and so there is small chances of overfitting."
   ]
  },
  {
   "cell_type": "code",
   "execution_count": 33,
   "id": "a4e10416",
   "metadata": {},
   "outputs": [
    {
     "data": {
      "text/plain": [
       "7"
      ]
     },
     "execution_count": 33,
     "metadata": {},
     "output_type": "execute_result"
    }
   ],
   "source": [
    "y_test[0]"
   ]
  },
  {
   "cell_type": "markdown",
   "id": "d80f60df",
   "metadata": {},
   "source": [
    "OR"
   ]
  },
  {
   "cell_type": "code",
   "execution_count": 38,
   "id": "849bb203",
   "metadata": {},
   "outputs": [
    {
     "data": {
      "text/plain": [
       "<matplotlib.image.AxesImage at 0x25ce3ce0550>"
      ]
     },
     "execution_count": 38,
     "metadata": {},
     "output_type": "execute_result"
    },
    {
     "data": {
      "image/png": "[encoded data removed]",
      "text/plain": [
       "<Figure size 432x288 with 1 Axes>"
      ]
     },
     "metadata": {
      "needs_background": "light"
     },
     "output_type": "display_data"
    }
   ],
   "source": [
    "plt.imshow(x_test[0])"
   ]
  },
  {
   "cell_type": "code",
   "execution_count": 40,
   "id": "c53937f5",
   "metadata": {},
   "outputs": [
    {
     "name": "stdout",
     "output_type": "stream",
     "text": [
      "1/1 [==============================] - 0s 26ms/step\n"
     ]
    },
    {
     "data": {
      "text/plain": [
       "array([[1.1666408e-16, 1.0786624e-15, 4.8608876e-14, 2.7686325e-13,\n",
       "        4.8096437e-27, 1.8685067e-18, 4.6114510e-28, 1.0000000e+00,\n",
       "        6.7595241e-17, 2.9775016e-13]], dtype=float32)"
      ]
     },
     "execution_count": 40,
     "metadata": {},
     "output_type": "execute_result"
    }
   ],
   "source": [
    "model.predict(x_test[0])       # i.e. we are giving only one image of 28 * 28"
   ]
  },
  {
   "cell_type": "code",
   "execution_count": 41,
   "id": "691170e9",
   "metadata": {},
   "outputs": [
    {
     "name": "stdout",
     "output_type": "stream",
     "text": [
      "1/1 [==============================] - 0s 37ms/step\n"
     ]
    },
    {
     "data": {
      "text/plain": [
       "array([7], dtype=int64)"
      ]
     },
     "execution_count": 41,
     "metadata": {},
     "output_type": "execute_result"
    }
   ],
   "source": [
    "model.predict(x_test[0]).argmax(axis = 1)"
   ]
  },
  {
   "cell_type": "markdown",
   "id": "b9a17ac5",
   "metadata": {},
   "source": [
    "this shows that we are getting correct output and so our model is working fine"
   ]
  },
  {
   "cell_type": "code",
   "execution_count": null,
   "id": "13955eb2",
   "metadata": {},
   "outputs": [],
   "source": []
  }
 ],
 "metadata": {
  "kernelspec": {
   "display_name": "Python 3 (ipykernel)",
   "language": "python",
   "name": "python3"
  },
  "language_info": {
   "codemirror_mode": {
    "name": "ipython",
    "version": 3
   },
   "file_extension": ".py",
   "mimetype": "text/x-python",
   "name": "python",
   "nbconvert_exporter": "python",
   "pygments_lexer": "ipython3",
   "version": "3.10.4"
  }
 },
 "nbformat": 4,
 "nbformat_minor": 5
}
